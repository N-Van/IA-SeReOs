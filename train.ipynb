{
 "cells": [
  {
   "cell_type": "markdown",
   "metadata": {},
   "source": [
    "# Import"
   ]
  },
  {
   "cell_type": "code",
   "execution_count": 90,
   "metadata": {},
   "outputs": [],
   "source": [
    "import numpy as np\n",
    "import torch\n",
    "import pandas as pd\n",
    "import torch.nn as nn\n",
    "import torch.nn.functional as F\n",
    "from torch.optim import Adam\n",
    "from torchvision import transforms\n",
    "import albumentations as albu\n",
    "from torch.utils.data import Dataset\n",
    "from typing import Union,List,Tuple\n",
    "import pathlib\n",
    "from timeit import default_timer as timer\n",
    "from torch.utils.data import DataLoader\n",
    "import h5py\n",
    "from tqdm import tqdm\n",
    "import torchvision\n",
    "from torch.utils.tensorboard import SummaryWriter"
   ]
  },
  {
   "cell_type": "markdown",
   "metadata": {},
   "source": [
    "# Parameters"
   ]
  },
  {
   "cell_type": "code",
   "execution_count": 110,
   "metadata": {},
   "outputs": [],
   "source": [
    "if torch.cuda.is_available():\n",
    "    device = torch.device('cuda')\n",
    "    use_gpu = True\n",
    "else:\n",
    "    device = torch.device('cpu')\n",
    "    use_gpu = False\n",
    "\n",
    "batch_size = 32\n",
    "period_size = 8\n",
    "weight_decay = 0.1\n",
    "epsilon = 10**(-8)\n",
    "epochs_num = 60\n",
    "learning_rate = 10**(-3)\n",
    "n_channel = 1\n",
    "class_num = 3\n",
    "\n",
    "label_dir = \"label\"\n",
    "input_dir = \"input\"\n",
    "\n",
    "stride = 32\n",
    "train_size = 0.7\n",
    "\n",
    "output = 256\n",
    "\n",
    "accuracy = Accuracy()"
   ]
  },
  {
   "cell_type": "markdown",
   "metadata": {},
   "source": [
    "# Train\n",
    "\n",
    "rdn_train -> fit ?\n",
    "\n",
    "rdn_val -> predict ?"
   ]
  },
  {
   "cell_type": "code",
   "execution_count": 137,
   "metadata": {},
   "outputs": [
    {
     "name": "stdout",
     "output_type": "stream",
     "text": [
      "True\n"
     ]
    }
   ],
   "source": [
    "import os\n",
    "import matplotlib.pyplot as plt\n",
    "from sklearn.utils import shuffle\n",
    "\n",
    "name_list = os.listdir(label_dir)\n",
    "\n",
    "label_list = {name:plt.imread(label_dir+\"/\"+name) for name in name_list}\n",
    "input_list = {name:plt.imread(input_dir+\"/\"+name) for name in name_list}\n",
    "\n",
    "train_patches = get_patches(input_list, stride=stride, output_size=output)\n",
    "val_patches = get_patches(label_list, stride=stride, output_size=output)\n",
    "ratios = generate_ratios(val_patches, class_num=class_num)\n",
    "\n",
    "print(label_list['data1.tif'].shape==(1236,1534))"
   ]
  },
  {
   "cell_type": "code",
   "execution_count": 147,
   "metadata": {},
   "outputs": [],
   "source": [
    "def rdn_train(net, optimizer, data_loader, epoch=None, total_epoch=None, use_gpu = False, tensorboard_plot=False, nb_ite=0):\n",
    "    if use_gpu:\n",
    "        net.cuda()\n",
    "    else:\n",
    "        net.cpu()\n",
    "\n",
    "    max_batches1 = len(data_loader.dataset) // data_loader.batch_size + (1 if (len(data_loader.dataset) % data_loader.batch_size) != 0 else 0)\n",
    "\n",
    "    # the epoch message for printing\n",
    "    epoch_print = 'Epoch:'\n",
    "    if epoch is not None:\n",
    "        epoch_print += f'{epoch + 1}'\n",
    "    if total_epoch is not None:\n",
    "        epoch_print += f'/{total_epoch}'\n",
    "    last_batches = 0.0\n",
    "    loss1_sum = 0.0\n",
    "    loss2_sum = 0.0\n",
    "    ite = 0\n",
    "\n",
    "    #Initialize writer to visualize results on TensorBoard\n",
    "    writer = SummaryWriter(\"runs\")\n",
    "    with tqdm(total=len(data_loader.dataset), desc=epoch_print, unit=' batches') as pbar:\n",
    "        for i_batches, sample_batched in enumerate(data_loader):\n",
    "            last_batches = i_batches\n",
    "            mask = sample_batched['mask']\n",
    "            image = sample_batched['image']\n",
    "            #index = sample_batched['index']\n",
    "\n",
    "            # convert to gpu\n",
    "            if use_gpu:\n",
    "                mask = mask.cuda().long()\n",
    "                image = image.cuda()\n",
    "\n",
    "            # prediction\n",
    "            pred = net(image)\n",
    "            \n",
    "            #loss1 = DomainEnrichLoss()(net, index, mask)\n",
    "            loss1 = torch.Tensor(0)\n",
    "            mask = create_one_hot(mask)\n",
    "\n",
    "            #Visualisation on Tensorboard\n",
    "            if tensorboard_plot and nb_ite+ite == 0:\n",
    "                writer.add_graph(net, image)\n",
    "            if tensorboard_plot and (ite % (max_batches1 // 3) == 0):\n",
    "                if epoch is not None:\n",
    "                    with torch.no_grad():\n",
    "                        pred2 = net(image)\n",
    "                    m2 = mask.argmax(1)\n",
    "                    m2= m2.cpu().squeeze().data.numpy()\n",
    "                    pred2 = pred2.argmax(1)\n",
    "                    pred2 = pred2.cpu().squeeze().data.numpy()\n",
    "                    color_dict = [[0.0], [128.0/255.0], [1]]\n",
    "                    pred_img = torch.empty_like(image).copy_(image)\n",
    "                    mask_img = torch.empty_like(image).copy_(image)\n",
    "                    for i in range(len(pred_img)):\n",
    "                        for j in range(len(pred_img[i][0])):\n",
    "                            for k in range(len(pred_img[i][0][j])):\n",
    "                                pred_img[i][0][j][k] = color_dict[pred2[i][j][k]][0]\n",
    "                                mask_img[i][0][j][k] = color_dict[m2[i][j][k]][0]\n",
    "\n",
    "                    writer.add_image('input_image', torchvision.utils.make_grid(image),nb_ite + last_batches)\n",
    "                    writer.add_image('prediction_image', torchvision.utils.make_grid(pred_img),nb_ite + last_batches)\n",
    "                    writer.add_image('mask_image', torchvision.utils.make_grid(mask_img),nb_ite + last_batches)\n",
    "\n",
    "            CE_loss = nn.CrossEntropyLoss()\n",
    "            loss2 = CE_loss(pred, mask)\n",
    "\n",
    "            # backward\n",
    "            optimizer.zero_grad()\n",
    "            loss2.backward()\n",
    "            optimizer.step()\n",
    "\n",
    "            # Print results\n",
    "            pbar.update(mask.shape[0])\n",
    "            pbar.set_postfix(loss=loss2.cpu().data.numpy(),loss1=loss1.cpu().data.numpy(),loss2=loss2.cpu().data.numpy())\n",
    "            loss1_sum = loss1_sum + loss1.cpu().data.numpy()\n",
    "            loss2_sum = loss2_sum + loss2.cpu().data.numpy()\n",
    "            #writer.add_scalars('Losses',{'loss':loss1.cpu().data.numpy(),'loss2':loss2.cpu().data.numpy()}, nb_ite + last_batches)\n",
    "            #writer.add_scalars('Average_Losses',{'loss':(loss2_sum / (last_batches + 1)),'loss2':(loss2_sum / (last_batches + 1))}, nb_ite + last_batches)\n",
    "            \n",
    "            ite += 1\n",
    "\n",
    "        print(f'\\nAverage, loss2: {(loss2_sum/ (last_batches + 1)):.6f}.')\n",
    "    writer.close()\n",
    "    return nb_ite + last_batches\n",
    "\n",
    "def rdn_val(net, data_set, use_gpu = False, i_epoch = None, class_num = 3):\n",
    "\n",
    "    dice_overlap = DiceOverlap(class_num)\n",
    "    if use_gpu:\n",
    "        net.cuda()\n",
    "    else:\n",
    "        net.cpu()\n",
    "\n",
    "    # check whether net is in train mode or not\n",
    "    origin_is_train_mode = net.training\n",
    "\n",
    "    # change the net to eval mode\n",
    "    if origin_is_train_mode:\n",
    "        net.eval()\n",
    "\n",
    "    # check whether data set is in train mode\n",
    "    data_set.val()\n",
    "\n",
    "    criterion_value_sum = 0.0\n",
    "    data_loader = DataLoader(data_set, batch_size=1, num_workers=0)\n",
    "    dice_overlap_results = 0.0\n",
    "\n",
    "    for i_batches, sample_batched in enumerate(data_loader):\n",
    "        mask = sample_batched['mask']\n",
    "        image = sample_batched['image']\n",
    "\n",
    "        if use_gpu:\n",
    "            mask = mask.cuda()\n",
    "            image = image.cuda()\n",
    "\n",
    "        # prediction\n",
    "        with torch.no_grad():\n",
    "            if image.shape==(1,1,256,256):\n",
    "                pred = net(image)\n",
    "                criterion_value_sum += accuracy(pred, mask.long()).cpu().data.numpy()\n",
    "\n",
    "                if dice_overlap is not None:\n",
    "                    dice_overlap_results += dice_overlap(pred, mask.long())\n",
    "\n",
    "    criterion_value = criterion_value_sum / len(data_loader.dataset)\n",
    "    dice_overlap_results = dice_overlap_results / len(data_loader.dataset)\n",
    "\n",
    "    for i in range(dice_overlap_results.shape[0]):\n",
    "        print(f'Class: {i:.0f}, Dice Overlap: {dice_overlap_results[i]:.6f}')\n",
    "\n",
    "    if origin_is_train_mode:\n",
    "        net.train()\n",
    "\n",
    "    # print message\n",
    "    if i_epoch is not None:\n",
    "        print(f\"Epoch: {i_epoch + 1}, Accuracy Value: {criterion_value:.6f}\")\n",
    "        writer = SummaryWriter(\"runs\")\n",
    "        writer.add_scalars('Dice Overlap',{'Air':dice_overlap_results[0],'Dirt':dice_overlap_results[1],'Bone':dice_overlap_results[2]}, i_epoch)\n",
    "        writer.close()\n",
    "    return criterion_value, dice_overlap_results\n",
    "\n",
    "class DiceOverlap():\n",
    "\n",
    "    def __init__(self, class_num):\n",
    "        self.len = class_num\n",
    "\n",
    "    def __call__(self, input, target):\n",
    "        input = F.sigmoid(input)\n",
    "        input = torch.max(input, 1)[1]\n",
    "\n",
    "        dice = []\n",
    "\n",
    "        for i in range(self.len):\n",
    "            sub_target = torch.zeros(target.shape).cuda()\n",
    "            sub_target[target == i] = 1\n",
    "            sub_input = torch.zeros(input.shape).cuda()\n",
    "            sub_input[input == i] = 1\n",
    "\n",
    "            tp_idx = target == i\n",
    "\n",
    "            eps = 0.0001\n",
    "            tp = torch.sum(sub_input[tp_idx] == sub_target[tp_idx])\n",
    "            fn = torch.sum(sub_input != sub_target)\n",
    "            tp = tp.float()\n",
    "            fn = fn.float()\n",
    "            result = (2*tp + eps) / (2*tp + fn + eps)\n",
    "            dice.append(result.cpu().data.numpy())\n",
    "\n",
    "        return np.asarray(dice)\n",
    "    \n",
    "class Accuracy():\n",
    "\n",
    "    def __call__(self, input, target, **kwargs):\n",
    "\n",
    "        input = torch.max(input, 1)[1]\n",
    "        size = 1\n",
    "        for i in range(len(input.shape)):\n",
    "            size = size * input.shape[i]\n",
    "        return torch.sum(input == target).float() / size"
   ]
  },
  {
   "cell_type": "markdown",
   "metadata": {},
   "source": [
    "# Generate Patches\n",
    "\n",
    "get_minimum_dirt_patches -> \n",
    "\n",
    "get_dirt_bone_patches ->"
   ]
  },
  {
   "cell_type": "code",
   "execution_count": 148,
   "metadata": {},
   "outputs": [],
   "source": [
    "def get_minimum_dirt_patches(dirt_choose_threshold: float, dirt_rate: float, patches: np.array, ratios:np.array):\n",
    "    # get ratios\n",
    "    ratios = np.array(ratios)\n",
    "    #get index that would sort ratios by decreasing order\n",
    "    ratios_idx = np.argsort(-ratios, axis=0)\n",
    "\n",
    "    # ratios dimension is n_patches x n_classes\n",
    "    # get the second column of ratio_idx which is the dirt index sorted by decreasing order\n",
    "    dirt_idx = ratios_idx[:, 1]\n",
    "\n",
    "    # get only the patches that dirt ratio is > dirt_choose_threshold\n",
    "    last_idx = 0\n",
    "    for i in range(dirt_idx.shape[0]):\n",
    "        dirt_ratio = ratios[dirt_idx[i], 1]\n",
    "        if dirt_ratio < dirt_choose_threshold:\n",
    "            last_idx = i\n",
    "            break\n",
    "    \n",
    "    #indexes of wanted dirt_patches\n",
    "    dirt_patches_idx = dirt_idx[0:last_idx]\n",
    "    #indexes of other patches\n",
    "    rest_idx = dirt_idx[last_idx:-1]\n",
    "\n",
    "    \n",
    "    if not (dirt_rate == 0):\n",
    "        rest_num = round(((last_idx - 1) / dirt_rate) * (1 - dirt_rate))\n",
    "        if rest_num > rest_idx.shape[0]:\n",
    "            rest_num = rest_idx.shape[0]\n",
    "    else:\n",
    "        rest_num = rest_idx.shape[0]\n",
    "    \n",
    "    #Getting picking other patches\n",
    "    random_idx = np.random.choice(rest_idx.shape[0], size=rest_num, replace=False)\n",
    "    non_dirt_patches_idx = rest_idx[random_idx]\n",
    "\n",
    "    # Getting the final patches\n",
    "    patches_idx = np.concatenate((dirt_patches_idx, non_dirt_patches_idx), axis=0)\n",
    "    new_patches = np.asarray(patches)[patches_idx, :].tolist()\n",
    "\n",
    "    new_patches = shuffle(new_patches)\n",
    "    new_patches = [[name, int(top), int(left), int(h), int(w)] for [name, top, left, h, w] in new_patches]\n",
    "    return new_patches\n",
    "\n",
    "def get_dirt_bone_patches(patches, ratios, air_rate):\n",
    "    #get ratios \n",
    "    ratios = np.array(ratios)\n",
    "    #get indices that would sort ratios by decreasing order\n",
    "    ratios_idx = np.argsort(-ratios, axis=0) \n",
    "\n",
    "    # get the second column of ratio_idx which is the dirt index sorted by decreasing order\n",
    "    dirt_idx = ratios_idx[:, 1]\n",
    "    #get patches \n",
    "    patches = np.asarray(patches)\n",
    "\n",
    "    #get ratios and patches sorted by decreasing dirt ratios \n",
    "    ratios_sort = ratios[dirt_idx, :]\n",
    "    patches_sort = patches[dirt_idx, :]\n",
    "    \n",
    "    dirt_patches = []\n",
    "    bone_patches = []\n",
    "    \n",
    "    while (len(dirt_patches) < 128 or len(bone_patches) < 128) and air_rate < 1: #in the case that we have not enough patches \n",
    "        dirt_patches = []\n",
    "        bone_patches = []\n",
    "        #get patches that contains significant differences between dirt and bone ratios (>0.1)\n",
    "        for idx in range(ratios_sort.shape[0]):\n",
    "            if (ratios_sort[idx, 0] < air_rate):\n",
    "                if (ratios_sort[idx, 1] - ratios_sort[idx, 2] > 0.15):\n",
    "                    dirt_patches.append(patches_sort[idx, :].tolist())\n",
    "                elif (ratios_sort[idx, 2] - ratios_sort[idx, 1] > 0.15):\n",
    "                    bone_patches.append(patches_sort[idx, :].tolist())\n",
    "            else:\n",
    "                pass\n",
    "        air_rate += 0.1\n",
    "\n",
    "    dirt_len = len(dirt_patches)\n",
    "    bone_len = len(bone_patches)\n",
    "\n",
    "    bone_index = [1 for i in range(bone_len)]\n",
    "    dirt_index = [0 for i in range(dirt_len)]\n",
    "    \n",
    "    dirt_patches = shuffle(dirt_patches)\n",
    "    bone_patches = shuffle(bone_patches)\n",
    "\n",
    " \n",
    "    \n",
    "    print(f\"There are {bone_len} bone and {dirt_len} dirt patches in the training data...\")\n",
    "\n",
    "    end_idx = dirt_len if dirt_len < bone_len else bone_len\n",
    "    #get the same quantity of dirt and bone patches\n",
    "    new_patches = []\n",
    "    for patch in dirt_patches:\n",
    "        new_patches.append(patch)\n",
    "    for patch in bone_patches:\n",
    "        new_patches.append(patch)\n",
    "    d_index = len(new_patches)\n",
    "\n",
    "    #This is the use of sklearn shuffle, which can't be replaced by the random shuffle\n",
    "    #new_patches, d_index = shuffle(new_patches, d_index)\n",
    "    #new_patches = [[name, int(top), int(left), int(h), int(w)] for [name, top, left, h, w] in new_patches]\n",
    "    #d_index = [int(idx) for idx in d_index]\n",
    "    \n",
    "    \n",
    "    return new_patches, d_index\n",
    "\n",
    "def slide_windows(name, shape, output_size=128, stride=32):\n",
    "    output_size = (output_size, output_size)\n",
    "    strides = (stride, stride)\n",
    "\n",
    "    patches_list = []\n",
    "    idx = 0\n",
    "    while idx * strides[0] + output_size[0] <= shape[0]:\n",
    "        top = idx * strides[0]\n",
    "        j = 0\n",
    "        while j * strides[1] + output_size[1] <= shape[1]:\n",
    "            left = j * strides[1]\n",
    "            patches_list.append([name, top, left,output_size[0], output_size[1]])\n",
    "            j += 1\n",
    "\n",
    "        if j * strides[1] < shape[1]:\n",
    "            left = shape[1] - output_size[1]\n",
    "            patches_list.append([name, top, left, output_size[0], output_size[1]])\n",
    "        idx += 1\n",
    "\n",
    "    if idx * strides[0] < shape[0]:\n",
    "        top = shape[0] - output_size[0]\n",
    "        j = 0\n",
    "        while j * strides[1] + output_size[1] <= shape[1]:\n",
    "            left = j * strides[1]\n",
    "            patches_list.append([name, top, left, output_size[0], output_size[1]])\n",
    "            j += 1\n",
    "\n",
    "        if j * strides[1] < shape[1]:\n",
    "            left = shape[1] - output_size[1]\n",
    "            patches_list.append([name, top, left, output_size[0], output_size[1]])\n",
    "    return patches_list\n",
    "\n",
    "def get_patches(data, stride: int = 32, output_size: int = 256):\n",
    "    patches = []\n",
    "    # pour chaque image du train -> recuperer la shape et le nom\n",
    "    for name in (data.keys()):\n",
    "        shape = data[name].shape\n",
    "        patches += slide_windows(name, shape, output_size=output_size, stride=stride)\n",
    "    shuffle(patches)\n",
    "        # I wrote out the before and after and did a comparison and there are no differences.\n",
    "        #This section appears to simply cast the first two items in patches as strings.\n",
    "        # for idx in range(len(patches)):\n",
    "        #     for j in range(len(patches[idx])):\n",
    "        #         patches[idx][j] = str(patches[idx][j])\n",
    "    return patches\n",
    "\n",
    "def generate_ratios(patches, class_num=3):\n",
    "    #initialize ratios to 0\n",
    "    ratios = []\n",
    "    for [name, top, left, h, w] in patches:\n",
    "        mask = plt.imread(label_dir+\"/\"+name)[top: top+h, left: left+w]\n",
    "        mask = adjustMask(mask, class_num)\n",
    "        size = 1.0\n",
    "        for idx in range(len(mask.shape)):\n",
    "            size *= mask.shape[idx]\n",
    "\n",
    "        #Get ratio for the patch\n",
    "        ratio = []\n",
    "        for idx in range(class_num):\n",
    "            ratio.append(np.sum(mask == idx)/size) \n",
    "\n",
    "        ratios.append(ratio)\n",
    "    return ratios"
   ]
  },
  {
   "cell_type": "markdown",
   "metadata": {},
   "source": [
    "# Dataset\n",
    "\n",
    "load_patches ->\n",
    "\n",
    "HDF52D -> "
   ]
  },
  {
   "cell_type": "code",
   "execution_count": 95,
   "metadata": {},
   "outputs": [],
   "source": [
    "def load_patches(patches):\n",
    "\n",
    "    if isinstance(patches, str):\n",
    "        return np.array(pd.read_csv(patches, header=0)).tolist()\n",
    "    else:\n",
    "        return patches\n",
    "\n",
    "class HDF52D(Dataset):\n",
    "\n",
    "    # dataset for segmentation used\n",
    "    def __init__(self, train_patches,val_patches, train_transform=None, val_transform=None, train_idx = None):\n",
    "\n",
    "        self.patches = {'train': load_patches(train_patches),\n",
    "                        'val': load_patches(val_patches)}\n",
    "\n",
    "        self.transforms = {'train': train_transform,\n",
    "                           'val': val_transform}\n",
    "\n",
    "        self.train_idx = load_patches(train_idx)\n",
    "\n",
    "        self.mode = 'train'\n",
    "\n",
    "    def __getitem__(self, idx):\n",
    "\n",
    "        [name, top, left, h, w] = self.patches[self.mode][idx]\n",
    "\n",
    "        image = input_list[name][int(top):int(top) + int(h), int(left):int(left) + int(w) ]\n",
    "        mask = label_list[name][int(top):int(top) + int(h), int(left):int(left) + int(w)]\n",
    "        sample = {'image': image, 'mask': mask}\n",
    "\n",
    "        if self.transforms[self.mode] is not None:\n",
    "            sample = self.transforms[self.mode](sample)\n",
    "            \n",
    "        #if self.train_idx is not None and self.mode == 'train':\n",
    "        #    sample['index'] = self.train_idx[idx]\n",
    "        return sample\n",
    "\n",
    "\n",
    "    def train(self):\n",
    "        self.mode = 'train'\n",
    "\n",
    "    def val(self):\n",
    "        self.mode = 'val'\n",
    "\n",
    "    def __len__(self):\n",
    "        return len(self.patches[self.mode])"
   ]
  },
  {
   "cell_type": "markdown",
   "metadata": {},
   "source": [
    "# Dataprocess\n",
    "\n",
    "create_one_hot ->\n",
    "\n",
    "adjustMask ->\n",
    "\n",
    "ToTensor ->\n",
    "\n",
    "Normalize -> \n",
    "\n",
    "Augmentation ->"
   ]
  },
  {
   "cell_type": "code",
   "execution_count": 96,
   "metadata": {},
   "outputs": [],
   "source": [
    "def create_one_hot(mask, num_classes = 3):\n",
    "    one_hot_mask = torch.zeros([mask.shape[0],\n",
    "                                num_classes,\n",
    "                                mask.shape[1],\n",
    "                                mask.shape[2]],\n",
    "                               dtype=torch.float32)\n",
    "    if mask.is_cuda:\n",
    "        one_hot_mask = one_hot_mask.cuda()\n",
    "    one_hot_mask = one_hot_mask.scatter(1, mask.long().data.unsqueeze(1), 1.0)\n",
    "\n",
    "    return one_hot_mask\n",
    "\n",
    "def adjustMask(mask, class_num):\n",
    "\n",
    "    interval = int(256.0 / class_num)\n",
    "\n",
    "    # Color_Dict must be a numpy type\n",
    "    # mask.shape must be a H x W x C\n",
    "    # do not have channel dimensions\n",
    "    if len(mask.shape) == 2:\n",
    "        new_mask = np.zeros((mask.shape[0], mask.shape[1]), dtype=np.longlong)\n",
    "        for i in range(class_num):\n",
    "            if i <= class_num - 2:\n",
    "                new_mask[(mask >= i*interval) & (mask < (i+1) * interval)] = i\n",
    "            else:\n",
    "                new_mask[i*interval <= mask] = i\n",
    "        return new_mask\n",
    "\n",
    "class AdjustMask(object):\n",
    "    def __init__(self, class_num = 3):\n",
    "        self.class_num = class_num\n",
    "\n",
    "    def __call__(self, sample):\n",
    "        sample['mask'] = adjustMask(sample['mask'], self.class_num)\n",
    "        return sample\n",
    "\n",
    "class ToTensor(object):\n",
    "\n",
    "    def __init__(self, if_multi_img=False):\n",
    "        self.if_multi_img = if_multi_img\n",
    "\n",
    "    def __call__(self, sample):\n",
    "        image, mask = sample['image'], sample['mask']\n",
    "\n",
    "        # swap color axis because\n",
    "        # numpy image: H x W x C\n",
    "        # torch image: C x H x W\n",
    "\n",
    "        if not self.if_multi_img:\n",
    "            if len(image.shape) == 2:\n",
    "                image = np.expand_dims(image, axis=2)\n",
    "            image = image.transpose((2, 0, 1))\n",
    "        else:\n",
    "            if len(image.shape) == 3:\n",
    "                image = np.expand_dims(image, axis=3)\n",
    "\n",
    "            image = image.transpose((0, 3, 1, 2))\n",
    "\n",
    "        sample['image'] = torch.from_numpy(image)\n",
    "        sample['mask'] = torch.from_numpy(mask)\n",
    "\n",
    "        if 'weights' in sample:\n",
    "            sample['weights'] = torch.from_numpy(sample['weights'])\n",
    "        if 'ratio' in sample:\n",
    "            sample['ratio'] = torch.from_numpy(sample['ratio'])\n",
    "        return sample\n",
    "\n",
    "class Normalize(object):\n",
    "    def __init__(self, max=255.0, min=0.0, tg_max=1.0, tg_min=0.0):\n",
    "        self.max = max\n",
    "        self.min = min\n",
    "        self.tg_max = tg_max\n",
    "        self.tg_min = tg_min\n",
    "\n",
    "    def __call__(self, sample):\n",
    "        image = sample['image'].astype('float32')\n",
    "        image = self.tg_min + ((image - self.min)*(self.tg_max - self.tg_min)) / (self.max - self.min)\n",
    "        sample['image'] = image\n",
    "        return sample\n",
    "\n",
    "class Augmentation(object):\n",
    "\n",
    "    def __init__(self, output_size=256):\n",
    "        self.aug = albu.Compose([\n",
    "            albu.OneOf([\n",
    "                albu.HorizontalFlip(p=1),\n",
    "                albu.VerticalFlip(p=1),   \n",
    "                albu.Compose([\n",
    "                    albu.HorizontalFlip(p=1),\n",
    "                    albu.VerticalFlip(p=1), \n",
    "                ])\n",
    "            ], p=0.75),\n",
    "            # albu.OneOf([\n",
    "            # albu.RandomContrast(),\n",
    "            # albu.RandomGamma(),\n",
    "            # albu.RandomBrightness(),\n",
    "            # ], p=0.5),\n",
    "            # albu.OneOf([\n",
    "            # albu.ElasticTransform(alpha=60, sigma=120 * 0.05, alpha_affine=120 * 0.03),\n",
    "            # albu.GridDistortion(),\n",
    "            # albu.OpticalDistortion(distort_limit=2, shift_limit=0.5),\n",
    "            # ], p=0.),5\n",
    "            albu.augmentations.geometric.rotate.RandomRotate90(p=1),\n",
    "            albu.Resize(output_size, output_size, always_apply=True),\n",
    "        ])\n",
    "    def __call__(self,sample):\n",
    "        augmented = self.aug(image=sample['image'], mask=sample['mask'])\n",
    "        sample['image'] = augmented['image']\n",
    "        sample['mask'] = augmented['mask']\n",
    "        return sample"
   ]
  },
  {
   "cell_type": "markdown",
   "metadata": {},
   "source": [
    "# UNet-parts\n",
    "\n",
    "DomainEnrich ->\n",
    "\n",
    "DoubleConv ->\n",
    "\n",
    "Down ->\n",
    "\n",
    "Up ->\n",
    "\n",
    "OutConv ->"
   ]
  },
  {
   "cell_type": "code",
   "execution_count": 97,
   "metadata": {},
   "outputs": [],
   "source": [
    "class DomainEnrich(nn.Module):\n",
    "    def __init__(self, in_channels, out_channels):\n",
    "        super().__init__()\n",
    "        self.domain_enrich = nn.Sequential(\n",
    "            nn.Conv2d(in_channels, out_channels, kernel_size=3, padding=1),\n",
    "            nn.BatchNorm2d(out_channels),\n",
    "            nn.ReLU(inplace=True)\n",
    "        )\n",
    "\n",
    "    def forward(self, x):\n",
    "        return self.domain_enrich(x)\n",
    "\n",
    "\n",
    "class DoubleConv(nn.Module):\n",
    "    \"\"\"(convolution => [BN] => ReLU) * 2\"\"\"\n",
    "\n",
    "    def __init__(self, in_channels, out_channels):\n",
    "        super().__init__()\n",
    "        self.double_conv = nn.Sequential(\n",
    "            nn.Conv2d(in_channels, out_channels, kernel_size=3, padding=1),\n",
    "            nn.BatchNorm2d(out_channels),\n",
    "            nn.ReLU(inplace=True),\n",
    "            nn.Conv2d(out_channels, out_channels, kernel_size=3, padding=1),\n",
    "            nn.BatchNorm2d(out_channels),\n",
    "            nn.ReLU(inplace=True)\n",
    "        )\n",
    "\n",
    "    def forward(self, x):\n",
    "        return self.double_conv(x)\n",
    "\n",
    "\n",
    "class Down(nn.Module):\n",
    "    \"\"\"Downscaling with maxpool then double conv\"\"\"\n",
    "\n",
    "    def __init__(self, in_channels, out_channels):\n",
    "        super().__init__()\n",
    "        self.maxpool_conv = nn.Sequential(\n",
    "            nn.MaxPool2d(2),\n",
    "            DoubleConv(in_channels, out_channels)\n",
    "        )\n",
    "\n",
    "    def forward(self, x):\n",
    "        return self.maxpool_conv(x)\n",
    "\n",
    "\n",
    "class Up(nn.Module):\n",
    "    \"\"\"Upscaling then double conv\"\"\"\n",
    "\n",
    "    def __init__(self, in_channels, out_channels, bilinear=True):\n",
    "        super().__init__()\n",
    "\n",
    "        # if bilinear, use the normal convolutions to reduce the number of channels\n",
    "        if bilinear:\n",
    "            self.up = nn.Upsample(scale_factor=2, mode='bilinear', align_corners=True)\n",
    "        else:\n",
    "            self.up = nn.ConvTranspose2d(in_channels // 2, in_channels // 2, kernel_size=2, stride=2)\n",
    "\n",
    "        self.conv = DoubleConv(in_channels, out_channels)\n",
    "\n",
    "    def forward(self, x1, x2):\n",
    "        x1 = self.up(x1)\n",
    "        # input is CHW\n",
    "        diffY = torch.tensor([x2.size()[2] - x1.size()[2]])\n",
    "        diffX = torch.tensor([x2.size()[3] - x1.size()[3]])\n",
    "\n",
    "        x1 = F.pad(x1, [diffX // 2, diffX - diffX // 2,\n",
    "                        diffY // 2, diffY - diffY // 2])\n",
    "        # if you have padding issues, see\n",
    "        # https://github.com/HaiyongJiang/U-Net-Pytorch-Unstructured-Buggy/commit/0e854509c2cea854e247a9c615f175f76fbb2e3a\n",
    "        # https://github.com/xiaopeng-liao/Pytorch-UNet/commit/8ebac70e633bac59fc22bb5195e513d5832fb3bd\n",
    "        x = torch.cat([x2, x1], dim=1)\n",
    "        return self.conv(x)\n",
    "\n",
    "\n",
    "class OutConv(nn.Module):\n",
    "    def __init__(self, in_channels, out_channels):\n",
    "        super(OutConv, self).__init__()\n",
    "        self.conv = nn.Conv2d(in_channels, out_channels, kernel_size=1)\n",
    "\n",
    "    def forward(self, x):\n",
    "        return self.conv(x)\n"
   ]
  },
  {
   "cell_type": "markdown",
   "metadata": {},
   "source": [
    "# UNet Light RDN\n",
    "\n",
    "UNet_Light_RDN -> réseau de neurones utilisé"
   ]
  },
  {
   "cell_type": "code",
   "execution_count": 98,
   "metadata": {},
   "outputs": [],
   "source": [
    "class UNet_Light_RDN(nn.Module):\n",
    "    def __init__(self, n_channels, n_classes, bilinear=True):\n",
    "        super(UNet_Light_RDN, self).__init__()\n",
    "        self.n_channels = n_channels\n",
    "        self.n_classes = n_classes\n",
    "        self.bilinear = bilinear\n",
    "\n",
    "        #self.rdn1 = DomainEnrich_Block(n_channels, 8)\n",
    "        #self.rdn2 = DomainEnrich_Block(n_channels, 8)\n",
    "\n",
    "        #self.inc = DoubleConv(17, 32)\n",
    "        \n",
    "        self.inc = DoubleConv(1, 32) #only unet\n",
    "        \n",
    "        self.down1 = Down(32, 64)\n",
    "        self.down2 = Down(64, 128)\n",
    "        self.down3 = Down(128, 256)\n",
    "        self.down4 = Down(256, 256)\n",
    "        self.up1 = Up(512, 128, bilinear)\n",
    "        self.up2 = Up(256, 64, bilinear)\n",
    "        self.up3 = Up(128, 32, bilinear)\n",
    "        self.up4 = Up(64, 32, bilinear)\n",
    "        self.outc = OutConv(32, n_classes)\n",
    "\n",
    "    def forward(self, x):\n",
    "        # identity = x\n",
    "        # self.x_rdn1 = self.rdn1(x)\n",
    "        # self.x_rdn2 = self.rdn2(x)\n",
    "        # # self.x_rdn2 = self.rdn2(self.x_rdn1)\n",
    "        # x1 = self.inc(torch.cat((self.x_rdn2, self.x_rdn1, identity), 1))\n",
    "        \n",
    "        x1 = self.inc(x) #only unet\n",
    "        \n",
    "        x2 = self.down1(x1)\n",
    "        x3 = self.down2(x2)\n",
    "        x4 = self.down3(x3)\n",
    "        x5 = self.down4(x4)\n",
    "        x = self.up1(x5, x4)\n",
    "        x = self.up2(x, x3)\n",
    "        x = self.up3(x, x2)\n",
    "        x = self.up4(x, x1)\n",
    "        logits = self.outc(x)\n",
    "        return logits"
   ]
  },
  {
   "cell_type": "code",
   "execution_count": 141,
   "metadata": {},
   "outputs": [],
   "source": [
    "net = UNet_Light_RDN(n_channels=n_channel, n_classes=class_num)"
   ]
  },
  {
   "cell_type": "code",
   "execution_count": 100,
   "metadata": {},
   "outputs": [],
   "source": [
    "optimizer = Adam(net.parameters(),\n",
    "                      lr=float(learning_rate),\n",
    "                      eps=float(epsilon),\n",
    "                      betas=(0.9, 0.999),\n",
    "                      weight_decay=weight_decay)\n",
    "\n",
    "#learning rate schedule\n",
    "lr_scheduler = torch.optim.lr_scheduler.StepLR(optimizer, step_size=period_size, gamma=0.1)\n"
   ]
  },
  {
   "cell_type": "code",
   "execution_count": 101,
   "metadata": {},
   "outputs": [],
   "source": [
    "# get training Epoch\n",
    "Epoch = epochs_num"
   ]
  },
  {
   "cell_type": "code",
   "execution_count": 102,
   "metadata": {},
   "outputs": [],
   "source": [
    "# create train transform\n",
    "train_transform = transforms.Compose([Augmentation(output_size=64), #config['output_size']\n",
    "                                                    AdjustMask(class_num=class_num),\n",
    "                                                    Normalize(max=255, min=0),\n",
    "                                                    ToTensor()])\n",
    "\n",
    "val_transform = transforms.Compose([AdjustMask(class_num=class_num),\n",
    "                                                    Normalize(max=255, min=0),\n",
    "                                                    ToTensor()])"
   ]
  },
  {
   "cell_type": "code",
   "execution_count": 149,
   "metadata": {},
   "outputs": [
    {
     "name": "stdout",
     "output_type": "stream",
     "text": [
      "Epoch progress:\n",
      "Progress training 60 epochs...\n",
      "Epoch 1 of 60\n",
      "There are 219 bone and 0 dirt patches in the training data...\n",
      "learning rate 0.001000\n"
     ]
    },
    {
     "name": "stderr",
     "output_type": "stream",
     "text": [
      "Epoch:1/60:   0%|          | 0/219 [00:00<?, ? batches/s]"
     ]
    },
    {
     "name": "stderr",
     "output_type": "stream",
     "text": [
      "/tmp/ipykernel_6054/1028449713.py:63: TracerWarning: torch.tensor results are registered as constants in the trace. You can safely ignore this warning if you use this function to create tensors out of constant variables that would be the same every time you call this function. In any other case, this might cause the trace to be incorrect.\n",
      "  diffY = torch.tensor([x2.size()[2] - x1.size()[2]])\n",
      "/tmp/ipykernel_6054/1028449713.py:64: TracerWarning: torch.tensor results are registered as constants in the trace. You can safely ignore this warning if you use this function to create tensors out of constant variables that would be the same every time you call this function. In any other case, this might cause the trace to be incorrect.\n",
      "  diffX = torch.tensor([x2.size()[3] - x1.size()[3]])\n",
      "Epoch:1/60: 100%|██████████| 219/219 [00:18<00:00, 12.16 batches/s, loss=1.0675442, loss1=[], loss2=1.0675442]\n"
     ]
    },
    {
     "name": "stdout",
     "output_type": "stream",
     "text": [
      "\n",
      "Average, loss2: 1.068025.\n",
      "[0.04061007 0.5617378  0.15530674]\n",
      "Class: 0, Dice Overlap: 0.040610\n",
      "Class: 1, Dice Overlap: 0.561738\n",
      "Class: 2, Dice Overlap: 0.155307\n",
      "Epoch: 1, Accuracy Value: 0.119295\n",
      "   Class Dice overlap\n",
      "0            0.040610\n",
      "1            0.561738\n",
      "2            0.155307\n",
      "Epoch 2 of 60\n",
      "There are 219 bone and 0 dirt patches in the training data...\n",
      "learning rate 0.001000\n"
     ]
    },
    {
     "name": "stderr",
     "output_type": "stream",
     "text": [
      "Epoch:2/60: 100%|██████████| 219/219 [00:18<00:00, 12.08 batches/s, loss=1.0687643, loss1=[], loss2=1.0687643]\n"
     ]
    },
    {
     "name": "stdout",
     "output_type": "stream",
     "text": [
      "\n",
      "Average, loss2: 1.068057.\n",
      "[0.04061007 0.5617378  0.15530674]\n",
      "Class: 0, Dice Overlap: 0.040610\n",
      "Class: 1, Dice Overlap: 0.561738\n",
      "Class: 2, Dice Overlap: 0.155307\n",
      "Epoch: 2, Accuracy Value: 0.119295\n",
      "   Class Dice overlap\n",
      "0            0.040610\n",
      "1            0.561738\n",
      "2            0.155307\n",
      "Epoch 3 of 60\n",
      "There are 219 bone and 0 dirt patches in the training data...\n",
      "learning rate 0.001000\n"
     ]
    },
    {
     "name": "stderr",
     "output_type": "stream",
     "text": [
      "Epoch:3/60: 100%|██████████| 219/219 [00:17<00:00, 12.31 batches/s, loss=1.068353, loss1=[], loss2=1.068353]  \n"
     ]
    },
    {
     "name": "stdout",
     "output_type": "stream",
     "text": [
      "\n",
      "Average, loss2: 1.068064.\n",
      "[0.04061007 0.5617378  0.15530674]\n",
      "Class: 0, Dice Overlap: 0.040610\n",
      "Class: 1, Dice Overlap: 0.561738\n",
      "Class: 2, Dice Overlap: 0.155307\n",
      "Epoch: 3, Accuracy Value: 0.119295\n",
      "   Class Dice overlap\n",
      "0            0.040610\n",
      "1            0.561738\n",
      "2            0.155307\n",
      "Epoch 4 of 60\n",
      "There are 219 bone and 0 dirt patches in the training data...\n",
      "learning rate 0.001000\n"
     ]
    },
    {
     "name": "stderr",
     "output_type": "stream",
     "text": [
      "Epoch:4/60: 100%|██████████| 219/219 [00:17<00:00, 12.21 batches/s, loss=1.0659746, loss1=[], loss2=1.0659746]\n"
     ]
    },
    {
     "name": "stdout",
     "output_type": "stream",
     "text": [
      "\n",
      "Average, loss2: 1.068019.\n",
      "[0.04061007 0.5617378  0.15530674]\n",
      "Class: 0, Dice Overlap: 0.040610\n",
      "Class: 1, Dice Overlap: 0.561738\n",
      "Class: 2, Dice Overlap: 0.155307\n",
      "Epoch: 4, Accuracy Value: 0.119295\n",
      "   Class Dice overlap\n",
      "0            0.040610\n",
      "1            0.561738\n",
      "2            0.155307\n",
      "Epoch 5 of 60\n",
      "There are 219 bone and 0 dirt patches in the training data...\n",
      "learning rate 0.001000\n"
     ]
    },
    {
     "name": "stderr",
     "output_type": "stream",
     "text": [
      "Epoch:5/60: 100%|██████████| 219/219 [00:17<00:00, 12.34 batches/s, loss=1.0670261, loss1=[], loss2=1.0670261]\n"
     ]
    },
    {
     "name": "stdout",
     "output_type": "stream",
     "text": [
      "\n",
      "Average, loss2: 1.068040.\n",
      "[0.04061007 0.5617378  0.15530674]\n",
      "Class: 0, Dice Overlap: 0.040610\n",
      "Class: 1, Dice Overlap: 0.561738\n",
      "Class: 2, Dice Overlap: 0.155307\n",
      "Epoch: 5, Accuracy Value: 0.119295\n",
      "   Class Dice overlap\n",
      "0            0.040610\n",
      "1            0.561738\n",
      "2            0.155307\n",
      "Epoch 6 of 60\n",
      "There are 219 bone and 0 dirt patches in the training data...\n",
      "learning rate 0.001000\n"
     ]
    },
    {
     "name": "stderr",
     "output_type": "stream",
     "text": [
      "Epoch:6/60: 100%|██████████| 219/219 [00:17<00:00, 12.22 batches/s, loss=1.0680413, loss1=[], loss2=1.0680413]\n"
     ]
    },
    {
     "name": "stdout",
     "output_type": "stream",
     "text": [
      "\n",
      "Average, loss2: 1.068008.\n",
      "[0.04061007 0.5617378  0.15530674]\n",
      "Class: 0, Dice Overlap: 0.040610\n",
      "Class: 1, Dice Overlap: 0.561738\n",
      "Class: 2, Dice Overlap: 0.155307\n",
      "Epoch: 6, Accuracy Value: 0.119295\n",
      "   Class Dice overlap\n",
      "0            0.040610\n",
      "1            0.561738\n",
      "2            0.155307\n",
      "Epoch 7 of 60\n",
      "There are 219 bone and 0 dirt patches in the training data...\n",
      "learning rate 0.001000\n"
     ]
    },
    {
     "name": "stderr",
     "output_type": "stream",
     "text": [
      "Epoch:7/60: 100%|██████████| 219/219 [00:17<00:00, 12.40 batches/s, loss=1.0669374, loss1=[], loss2=1.0669374]\n"
     ]
    },
    {
     "name": "stdout",
     "output_type": "stream",
     "text": [
      "\n",
      "Average, loss2: 1.068027.\n",
      "[0.04061007 0.5617378  0.15530674]\n",
      "Class: 0, Dice Overlap: 0.040610\n",
      "Class: 1, Dice Overlap: 0.561738\n",
      "Class: 2, Dice Overlap: 0.155307\n",
      "Epoch: 7, Accuracy Value: 0.119295\n",
      "   Class Dice overlap\n",
      "0            0.040610\n",
      "1            0.561738\n",
      "2            0.155307\n",
      "Epoch 8 of 60\n",
      "There are 219 bone and 0 dirt patches in the training data...\n",
      "learning rate 0.001000\n"
     ]
    },
    {
     "name": "stderr",
     "output_type": "stream",
     "text": [
      "Epoch:8/60: 100%|██████████| 219/219 [00:17<00:00, 12.36 batches/s, loss=1.0678102, loss1=[], loss2=1.0678102]\n"
     ]
    },
    {
     "name": "stdout",
     "output_type": "stream",
     "text": [
      "\n",
      "Average, loss2: 1.068022.\n",
      "[0.04061007 0.5617378  0.15530674]\n",
      "Class: 0, Dice Overlap: 0.040610\n",
      "Class: 1, Dice Overlap: 0.561738\n",
      "Class: 2, Dice Overlap: 0.155307\n",
      "Epoch: 8, Accuracy Value: 0.119295\n",
      "   Class Dice overlap\n",
      "0            0.040610\n",
      "1            0.561738\n",
      "2            0.155307\n",
      "Epoch 9 of 60\n",
      "There are 219 bone and 0 dirt patches in the training data...\n",
      "learning rate 0.001000\n"
     ]
    },
    {
     "name": "stderr",
     "output_type": "stream",
     "text": [
      "Epoch:9/60: 100%|██████████| 219/219 [00:17<00:00, 12.48 batches/s, loss=1.0671654, loss1=[], loss2=1.0671654]\n"
     ]
    },
    {
     "name": "stdout",
     "output_type": "stream",
     "text": [
      "\n",
      "Average, loss2: 1.068059.\n",
      "[0.04061007 0.5617378  0.15530674]\n",
      "Class: 0, Dice Overlap: 0.040610\n",
      "Class: 1, Dice Overlap: 0.561738\n",
      "Class: 2, Dice Overlap: 0.155307\n",
      "Epoch: 9, Accuracy Value: 0.119295\n",
      "   Class Dice overlap\n",
      "0            0.040610\n",
      "1            0.561738\n",
      "2            0.155307\n",
      "Epoch 10 of 60\n",
      "There are 219 bone and 0 dirt patches in the training data...\n",
      "learning rate 0.001000\n"
     ]
    },
    {
     "name": "stderr",
     "output_type": "stream",
     "text": [
      "Epoch:10/60: 100%|██████████| 219/219 [00:17<00:00, 12.29 batches/s, loss=1.0702623, loss1=[], loss2=1.0702623]\n"
     ]
    },
    {
     "name": "stdout",
     "output_type": "stream",
     "text": [
      "\n",
      "Average, loss2: 1.068055.\n",
      "[0.04061007 0.5617378  0.15530674]\n",
      "Class: 0, Dice Overlap: 0.040610\n",
      "Class: 1, Dice Overlap: 0.561738\n",
      "Class: 2, Dice Overlap: 0.155307\n",
      "Epoch: 10, Accuracy Value: 0.119295\n",
      "   Class Dice overlap\n",
      "0            0.040610\n",
      "1            0.561738\n",
      "2            0.155307\n",
      "Epoch 11 of 60\n",
      "There are 219 bone and 0 dirt patches in the training data...\n",
      "learning rate 0.001000\n"
     ]
    },
    {
     "name": "stderr",
     "output_type": "stream",
     "text": [
      "Epoch:11/60: 100%|██████████| 219/219 [00:17<00:00, 12.47 batches/s, loss=1.0657933, loss1=[], loss2=1.0657933]\n"
     ]
    },
    {
     "name": "stdout",
     "output_type": "stream",
     "text": [
      "\n",
      "Average, loss2: 1.068000.\n",
      "[0.04061007 0.5617378  0.15530674]\n",
      "Class: 0, Dice Overlap: 0.040610\n",
      "Class: 1, Dice Overlap: 0.561738\n",
      "Class: 2, Dice Overlap: 0.155307\n",
      "Epoch: 11, Accuracy Value: 0.119295\n",
      "   Class Dice overlap\n",
      "0            0.040610\n",
      "1            0.561738\n",
      "2            0.155307\n",
      "Epoch 12 of 60\n",
      "There are 219 bone and 0 dirt patches in the training data...\n",
      "learning rate 0.001000\n"
     ]
    },
    {
     "name": "stderr",
     "output_type": "stream",
     "text": [
      "Epoch:12/60: 100%|██████████| 219/219 [00:17<00:00, 12.46 batches/s, loss=1.0672809, loss1=[], loss2=1.0672809]\n"
     ]
    },
    {
     "name": "stdout",
     "output_type": "stream",
     "text": [
      "\n",
      "Average, loss2: 1.068044.\n",
      "[0.04061007 0.5617378  0.15530674]\n",
      "Class: 0, Dice Overlap: 0.040610\n",
      "Class: 1, Dice Overlap: 0.561738\n",
      "Class: 2, Dice Overlap: 0.155307\n",
      "Epoch: 12, Accuracy Value: 0.119295\n",
      "   Class Dice overlap\n",
      "0            0.040610\n",
      "1            0.561738\n",
      "2            0.155307\n",
      "Epoch 13 of 60\n",
      "There are 219 bone and 0 dirt patches in the training data...\n",
      "learning rate 0.001000\n"
     ]
    },
    {
     "name": "stderr",
     "output_type": "stream",
     "text": [
      "Epoch:13/60: 100%|██████████| 219/219 [00:17<00:00, 12.47 batches/s, loss=1.0687253, loss1=[], loss2=1.0687253]\n"
     ]
    },
    {
     "name": "stdout",
     "output_type": "stream",
     "text": [
      "\n",
      "Average, loss2: 1.068051.\n",
      "[0.04061007 0.5617378  0.15530674]\n",
      "Class: 0, Dice Overlap: 0.040610\n",
      "Class: 1, Dice Overlap: 0.561738\n",
      "Class: 2, Dice Overlap: 0.155307\n",
      "Epoch: 13, Accuracy Value: 0.119295\n",
      "   Class Dice overlap\n",
      "0            0.040610\n",
      "1            0.561738\n",
      "2            0.155307\n",
      "Epoch 14 of 60\n",
      "There are 219 bone and 0 dirt patches in the training data...\n",
      "learning rate 0.001000\n"
     ]
    },
    {
     "name": "stderr",
     "output_type": "stream",
     "text": [
      "Epoch:14/60: 100%|██████████| 219/219 [00:17<00:00, 12.42 batches/s, loss=1.0677339, loss1=[], loss2=1.0677339]\n"
     ]
    },
    {
     "name": "stdout",
     "output_type": "stream",
     "text": [
      "\n",
      "Average, loss2: 1.068026.\n",
      "[0.04061007 0.5617378  0.15530674]\n",
      "Class: 0, Dice Overlap: 0.040610\n",
      "Class: 1, Dice Overlap: 0.561738\n",
      "Class: 2, Dice Overlap: 0.155307\n",
      "Epoch: 14, Accuracy Value: 0.119295\n",
      "   Class Dice overlap\n",
      "0            0.040610\n",
      "1            0.561738\n",
      "2            0.155307\n",
      "Epoch 15 of 60\n",
      "There are 219 bone and 0 dirt patches in the training data...\n",
      "learning rate 0.001000\n"
     ]
    },
    {
     "name": "stderr",
     "output_type": "stream",
     "text": [
      "Epoch:15/60: 100%|██████████| 219/219 [00:17<00:00, 12.34 batches/s, loss=1.069409, loss1=[], loss2=1.069409]  \n"
     ]
    },
    {
     "name": "stdout",
     "output_type": "stream",
     "text": [
      "\n",
      "Average, loss2: 1.068039.\n",
      "[0.04061007 0.5617378  0.15530674]\n",
      "Class: 0, Dice Overlap: 0.040610\n",
      "Class: 1, Dice Overlap: 0.561738\n",
      "Class: 2, Dice Overlap: 0.155307\n",
      "Epoch: 15, Accuracy Value: 0.119295\n",
      "   Class Dice overlap\n",
      "0            0.040610\n",
      "1            0.561738\n",
      "2            0.155307\n",
      "Epoch 16 of 60\n",
      "There are 219 bone and 0 dirt patches in the training data...\n",
      "learning rate 0.001000\n"
     ]
    },
    {
     "name": "stderr",
     "output_type": "stream",
     "text": [
      "Epoch:16/60: 100%|██████████| 219/219 [00:17<00:00, 12.40 batches/s, loss=1.0684434, loss1=[], loss2=1.0684434]\n"
     ]
    },
    {
     "name": "stdout",
     "output_type": "stream",
     "text": [
      "\n",
      "Average, loss2: 1.068015.\n",
      "[0.04061007 0.5617378  0.15530674]\n",
      "Class: 0, Dice Overlap: 0.040610\n",
      "Class: 1, Dice Overlap: 0.561738\n",
      "Class: 2, Dice Overlap: 0.155307\n",
      "Epoch: 16, Accuracy Value: 0.119295\n",
      "   Class Dice overlap\n",
      "0            0.040610\n",
      "1            0.561738\n",
      "2            0.155307\n",
      "Epoch 17 of 60\n",
      "There are 219 bone and 0 dirt patches in the training data...\n",
      "learning rate 0.001000\n"
     ]
    },
    {
     "name": "stderr",
     "output_type": "stream",
     "text": [
      "Epoch:17/60: 100%|██████████| 219/219 [00:17<00:00, 12.49 batches/s, loss=1.0684333, loss1=[], loss2=1.0684333]\n"
     ]
    },
    {
     "name": "stdout",
     "output_type": "stream",
     "text": [
      "\n",
      "Average, loss2: 1.068049.\n",
      "[0.04061007 0.5617378  0.15530674]\n",
      "Class: 0, Dice Overlap: 0.040610\n",
      "Class: 1, Dice Overlap: 0.561738\n",
      "Class: 2, Dice Overlap: 0.155307\n",
      "Epoch: 17, Accuracy Value: 0.119295\n",
      "   Class Dice overlap\n",
      "0            0.040610\n",
      "1            0.561738\n",
      "2            0.155307\n",
      "Epoch 18 of 60\n",
      "There are 219 bone and 0 dirt patches in the training data...\n",
      "learning rate 0.001000\n"
     ]
    },
    {
     "name": "stderr",
     "output_type": "stream",
     "text": [
      "Epoch:18/60: 100%|██████████| 219/219 [00:17<00:00, 12.55 batches/s, loss=1.0667322, loss1=[], loss2=1.0667322]\n"
     ]
    },
    {
     "name": "stdout",
     "output_type": "stream",
     "text": [
      "\n",
      "Average, loss2: 1.068000.\n",
      "[0.04061007 0.5617378  0.15530674]\n",
      "Class: 0, Dice Overlap: 0.040610\n",
      "Class: 1, Dice Overlap: 0.561738\n",
      "Class: 2, Dice Overlap: 0.155307\n",
      "Epoch: 18, Accuracy Value: 0.119295\n",
      "   Class Dice overlap\n",
      "0            0.040610\n",
      "1            0.561738\n",
      "2            0.155307\n",
      "Epoch 19 of 60\n",
      "There are 219 bone and 0 dirt patches in the training data...\n",
      "learning rate 0.001000\n"
     ]
    },
    {
     "name": "stderr",
     "output_type": "stream",
     "text": [
      "Epoch:19/60: 100%|██████████| 219/219 [00:17<00:00, 12.48 batches/s, loss=1.0681493, loss1=[], loss2=1.0681493]\n"
     ]
    },
    {
     "name": "stdout",
     "output_type": "stream",
     "text": [
      "\n",
      "Average, loss2: 1.068037.\n",
      "[0.04061007 0.5617378  0.15530674]\n",
      "Class: 0, Dice Overlap: 0.040610\n",
      "Class: 1, Dice Overlap: 0.561738\n",
      "Class: 2, Dice Overlap: 0.155307\n",
      "Epoch: 19, Accuracy Value: 0.119295\n",
      "   Class Dice overlap\n",
      "0            0.040610\n",
      "1            0.561738\n",
      "2            0.155307\n",
      "Epoch 20 of 60\n",
      "There are 219 bone and 0 dirt patches in the training data...\n",
      "learning rate 0.001000\n"
     ]
    },
    {
     "name": "stderr",
     "output_type": "stream",
     "text": [
      "Epoch:20/60: 100%|██████████| 219/219 [00:17<00:00, 12.29 batches/s, loss=1.0678834, loss1=[], loss2=1.0678834]\n"
     ]
    },
    {
     "name": "stdout",
     "output_type": "stream",
     "text": [
      "\n",
      "Average, loss2: 1.068040.\n",
      "[0.04061007 0.5617378  0.15530674]\n",
      "Class: 0, Dice Overlap: 0.040610\n",
      "Class: 1, Dice Overlap: 0.561738\n",
      "Class: 2, Dice Overlap: 0.155307\n",
      "Epoch: 20, Accuracy Value: 0.119295\n",
      "   Class Dice overlap\n",
      "0            0.040610\n",
      "1            0.561738\n",
      "2            0.155307\n",
      "Epoch 21 of 60\n",
      "There are 219 bone and 0 dirt patches in the training data...\n",
      "learning rate 0.001000\n"
     ]
    },
    {
     "name": "stderr",
     "output_type": "stream",
     "text": [
      "Epoch:21/60: 100%|██████████| 219/219 [00:17<00:00, 12.33 batches/s, loss=1.067692, loss1=[], loss2=1.067692]  \n"
     ]
    },
    {
     "name": "stdout",
     "output_type": "stream",
     "text": [
      "\n",
      "Average, loss2: 1.068023.\n",
      "[0.04061007 0.5617378  0.15530674]\n",
      "Class: 0, Dice Overlap: 0.040610\n",
      "Class: 1, Dice Overlap: 0.561738\n",
      "Class: 2, Dice Overlap: 0.155307\n",
      "Epoch: 21, Accuracy Value: 0.119295\n",
      "   Class Dice overlap\n",
      "0            0.040610\n",
      "1            0.561738\n",
      "2            0.155307\n",
      "Epoch 22 of 60\n",
      "There are 219 bone and 0 dirt patches in the training data...\n",
      "learning rate 0.001000\n"
     ]
    },
    {
     "name": "stderr",
     "output_type": "stream",
     "text": [
      "Epoch:22/60: 100%|██████████| 219/219 [00:17<00:00, 12.32 batches/s, loss=1.0685921, loss1=[], loss2=1.0685921]\n"
     ]
    },
    {
     "name": "stdout",
     "output_type": "stream",
     "text": [
      "\n",
      "Average, loss2: 1.068063.\n",
      "[0.04061007 0.5617378  0.15530674]\n",
      "Class: 0, Dice Overlap: 0.040610\n",
      "Class: 1, Dice Overlap: 0.561738\n",
      "Class: 2, Dice Overlap: 0.155307\n",
      "Epoch: 22, Accuracy Value: 0.119295\n",
      "   Class Dice overlap\n",
      "0            0.040610\n",
      "1            0.561738\n",
      "2            0.155307\n",
      "Epoch 23 of 60\n",
      "There are 219 bone and 0 dirt patches in the training data...\n",
      "learning rate 0.001000\n"
     ]
    },
    {
     "name": "stderr",
     "output_type": "stream",
     "text": [
      "Epoch:23/60: 100%|██████████| 219/219 [00:17<00:00, 12.50 batches/s, loss=1.0684602, loss1=[], loss2=1.0684602]\n"
     ]
    },
    {
     "name": "stdout",
     "output_type": "stream",
     "text": [
      "\n",
      "Average, loss2: 1.068038.\n",
      "[0.04061007 0.5617378  0.15530674]\n",
      "Class: 0, Dice Overlap: 0.040610\n",
      "Class: 1, Dice Overlap: 0.561738\n",
      "Class: 2, Dice Overlap: 0.155307\n",
      "Epoch: 23, Accuracy Value: 0.119295\n",
      "   Class Dice overlap\n",
      "0            0.040610\n",
      "1            0.561738\n",
      "2            0.155307\n",
      "Epoch 24 of 60\n",
      "There are 219 bone and 0 dirt patches in the training data...\n",
      "learning rate 0.001000\n"
     ]
    },
    {
     "name": "stderr",
     "output_type": "stream",
     "text": [
      "Epoch:24/60: 100%|██████████| 219/219 [00:17<00:00, 12.48 batches/s, loss=1.0688107, loss1=[], loss2=1.0688107]\n"
     ]
    },
    {
     "name": "stdout",
     "output_type": "stream",
     "text": [
      "\n",
      "Average, loss2: 1.068047.\n",
      "[0.04061007 0.5617378  0.15530674]\n",
      "Class: 0, Dice Overlap: 0.040610\n",
      "Class: 1, Dice Overlap: 0.561738\n",
      "Class: 2, Dice Overlap: 0.155307\n",
      "Epoch: 24, Accuracy Value: 0.119295\n",
      "   Class Dice overlap\n",
      "0            0.040610\n",
      "1            0.561738\n",
      "2            0.155307\n",
      "Epoch 25 of 60\n",
      "There are 219 bone and 0 dirt patches in the training data...\n",
      "learning rate 0.001000\n"
     ]
    },
    {
     "name": "stderr",
     "output_type": "stream",
     "text": [
      "Epoch:25/60: 100%|██████████| 219/219 [00:17<00:00, 12.45 batches/s, loss=1.0676097, loss1=[], loss2=1.0676097]\n"
     ]
    },
    {
     "name": "stdout",
     "output_type": "stream",
     "text": [
      "\n",
      "Average, loss2: 1.068016.\n",
      "[0.04061007 0.5617378  0.15530674]\n",
      "Class: 0, Dice Overlap: 0.040610\n",
      "Class: 1, Dice Overlap: 0.561738\n",
      "Class: 2, Dice Overlap: 0.155307\n",
      "Epoch: 25, Accuracy Value: 0.119295\n",
      "   Class Dice overlap\n",
      "0            0.040610\n",
      "1            0.561738\n",
      "2            0.155307\n",
      "Epoch 26 of 60\n",
      "There are 219 bone and 0 dirt patches in the training data...\n",
      "learning rate 0.001000\n"
     ]
    },
    {
     "name": "stderr",
     "output_type": "stream",
     "text": [
      "Epoch:26/60: 100%|██████████| 219/219 [00:17<00:00, 12.52 batches/s, loss=1.068124, loss1=[], loss2=1.068124]  \n"
     ]
    },
    {
     "name": "stdout",
     "output_type": "stream",
     "text": [
      "\n",
      "Average, loss2: 1.067998.\n",
      "[0.04061007 0.5617378  0.15530674]\n",
      "Class: 0, Dice Overlap: 0.040610\n",
      "Class: 1, Dice Overlap: 0.561738\n",
      "Class: 2, Dice Overlap: 0.155307\n",
      "Epoch: 26, Accuracy Value: 0.119295\n",
      "   Class Dice overlap\n",
      "0            0.040610\n",
      "1            0.561738\n",
      "2            0.155307\n",
      "Epoch 27 of 60\n",
      "There are 219 bone and 0 dirt patches in the training data...\n",
      "learning rate 0.001000\n"
     ]
    },
    {
     "name": "stderr",
     "output_type": "stream",
     "text": [
      "Epoch:27/60: 100%|██████████| 219/219 [00:17<00:00, 12.51 batches/s, loss=1.0676645, loss1=[], loss2=1.0676645]\n"
     ]
    },
    {
     "name": "stdout",
     "output_type": "stream",
     "text": [
      "\n",
      "Average, loss2: 1.067991.\n",
      "[0.04061007 0.5617378  0.15530674]\n",
      "Class: 0, Dice Overlap: 0.040610\n",
      "Class: 1, Dice Overlap: 0.561738\n",
      "Class: 2, Dice Overlap: 0.155307\n",
      "Epoch: 27, Accuracy Value: 0.119295\n",
      "   Class Dice overlap\n",
      "0            0.040610\n",
      "1            0.561738\n",
      "2            0.155307\n",
      "Epoch 28 of 60\n",
      "There are 219 bone and 0 dirt patches in the training data...\n",
      "learning rate 0.001000\n"
     ]
    },
    {
     "name": "stderr",
     "output_type": "stream",
     "text": [
      "Epoch:28/60: 100%|██████████| 219/219 [00:17<00:00, 12.45 batches/s, loss=1.0689414, loss1=[], loss2=1.0689414]\n"
     ]
    },
    {
     "name": "stdout",
     "output_type": "stream",
     "text": [
      "\n",
      "Average, loss2: 1.068065.\n",
      "[0.04061007 0.5617378  0.15530674]\n",
      "Class: 0, Dice Overlap: 0.040610\n",
      "Class: 1, Dice Overlap: 0.561738\n",
      "Class: 2, Dice Overlap: 0.155307\n",
      "Epoch: 28, Accuracy Value: 0.119295\n",
      "   Class Dice overlap\n",
      "0            0.040610\n",
      "1            0.561738\n",
      "2            0.155307\n",
      "Epoch 29 of 60\n",
      "There are 219 bone and 0 dirt patches in the training data...\n",
      "learning rate 0.001000\n"
     ]
    },
    {
     "name": "stderr",
     "output_type": "stream",
     "text": [
      "Epoch:29/60: 100%|██████████| 219/219 [00:17<00:00, 12.52 batches/s, loss=1.0690176, loss1=[], loss2=1.0690176]\n"
     ]
    },
    {
     "name": "stdout",
     "output_type": "stream",
     "text": [
      "\n",
      "Average, loss2: 1.068006.\n",
      "[0.04061007 0.5617378  0.15530674]\n",
      "Class: 0, Dice Overlap: 0.040610\n",
      "Class: 1, Dice Overlap: 0.561738\n",
      "Class: 2, Dice Overlap: 0.155307\n",
      "Epoch: 29, Accuracy Value: 0.119295\n",
      "   Class Dice overlap\n",
      "0            0.040610\n",
      "1            0.561738\n",
      "2            0.155307\n",
      "Epoch 30 of 60\n",
      "There are 219 bone and 0 dirt patches in the training data...\n",
      "learning rate 0.001000\n"
     ]
    },
    {
     "name": "stderr",
     "output_type": "stream",
     "text": [
      "Epoch:30/60: 100%|██████████| 219/219 [00:17<00:00, 12.48 batches/s, loss=1.0687882, loss1=[], loss2=1.0687882]\n"
     ]
    },
    {
     "name": "stdout",
     "output_type": "stream",
     "text": [
      "\n",
      "Average, loss2: 1.068042.\n",
      "[0.04061007 0.5617378  0.15530674]\n",
      "Class: 0, Dice Overlap: 0.040610\n",
      "Class: 1, Dice Overlap: 0.561738\n",
      "Class: 2, Dice Overlap: 0.155307\n",
      "Epoch: 30, Accuracy Value: 0.119295\n",
      "   Class Dice overlap\n",
      "0            0.040610\n",
      "1            0.561738\n",
      "2            0.155307\n",
      "Epoch 31 of 60\n",
      "There are 219 bone and 0 dirt patches in the training data...\n",
      "learning rate 0.001000\n"
     ]
    },
    {
     "name": "stderr",
     "output_type": "stream",
     "text": [
      "Epoch:31/60: 100%|██████████| 219/219 [00:17<00:00, 12.53 batches/s, loss=1.067678, loss1=[], loss2=1.067678]  \n"
     ]
    },
    {
     "name": "stdout",
     "output_type": "stream",
     "text": [
      "\n",
      "Average, loss2: 1.068040.\n",
      "[0.04061007 0.5617378  0.15530674]\n",
      "Class: 0, Dice Overlap: 0.040610\n",
      "Class: 1, Dice Overlap: 0.561738\n",
      "Class: 2, Dice Overlap: 0.155307\n",
      "Epoch: 31, Accuracy Value: 0.119295\n",
      "   Class Dice overlap\n",
      "0            0.040610\n",
      "1            0.561738\n",
      "2            0.155307\n",
      "Epoch 32 of 60\n",
      "There are 219 bone and 0 dirt patches in the training data...\n",
      "learning rate 0.001000\n"
     ]
    },
    {
     "name": "stderr",
     "output_type": "stream",
     "text": [
      "Epoch:32/60: 100%|██████████| 219/219 [00:17<00:00, 12.44 batches/s, loss=1.0695733, loss1=[], loss2=1.0695733]\n"
     ]
    },
    {
     "name": "stdout",
     "output_type": "stream",
     "text": [
      "\n",
      "Average, loss2: 1.068067.\n",
      "[0.04061007 0.5617378  0.15530674]\n",
      "Class: 0, Dice Overlap: 0.040610\n",
      "Class: 1, Dice Overlap: 0.561738\n",
      "Class: 2, Dice Overlap: 0.155307\n",
      "Epoch: 32, Accuracy Value: 0.119295\n",
      "   Class Dice overlap\n",
      "0            0.040610\n",
      "1            0.561738\n",
      "2            0.155307\n",
      "Epoch 33 of 60\n",
      "There are 219 bone and 0 dirt patches in the training data...\n",
      "learning rate 0.001000\n"
     ]
    },
    {
     "name": "stderr",
     "output_type": "stream",
     "text": [
      "Epoch:33/60: 100%|██████████| 219/219 [00:17<00:00, 12.33 batches/s, loss=1.0678996, loss1=[], loss2=1.0678996]\n"
     ]
    },
    {
     "name": "stdout",
     "output_type": "stream",
     "text": [
      "\n",
      "Average, loss2: 1.068030.\n",
      "[0.04061007 0.5617378  0.15530674]\n",
      "Class: 0, Dice Overlap: 0.040610\n",
      "Class: 1, Dice Overlap: 0.561738\n",
      "Class: 2, Dice Overlap: 0.155307\n",
      "Epoch: 33, Accuracy Value: 0.119295\n",
      "   Class Dice overlap\n",
      "0            0.040610\n",
      "1            0.561738\n",
      "2            0.155307\n",
      "Epoch 34 of 60\n",
      "There are 219 bone and 0 dirt patches in the training data...\n",
      "learning rate 0.001000\n"
     ]
    },
    {
     "name": "stderr",
     "output_type": "stream",
     "text": [
      "Epoch:34/60: 100%|██████████| 219/219 [00:17<00:00, 12.34 batches/s, loss=1.068672, loss1=[], loss2=1.068672]  \n"
     ]
    },
    {
     "name": "stdout",
     "output_type": "stream",
     "text": [
      "\n",
      "Average, loss2: 1.068054.\n",
      "[0.04061007 0.5617378  0.15530674]\n",
      "Class: 0, Dice Overlap: 0.040610\n",
      "Class: 1, Dice Overlap: 0.561738\n",
      "Class: 2, Dice Overlap: 0.155307\n",
      "Epoch: 34, Accuracy Value: 0.119295\n",
      "   Class Dice overlap\n",
      "0            0.040610\n",
      "1            0.561738\n",
      "2            0.155307\n",
      "Epoch 35 of 60\n",
      "There are 219 bone and 0 dirt patches in the training data...\n",
      "learning rate 0.001000\n"
     ]
    },
    {
     "name": "stderr",
     "output_type": "stream",
     "text": [
      "Epoch:35/60: 100%|██████████| 219/219 [00:17<00:00, 12.32 batches/s, loss=1.0704526, loss1=[], loss2=1.0704526]\n"
     ]
    },
    {
     "name": "stdout",
     "output_type": "stream",
     "text": [
      "\n",
      "Average, loss2: 1.068093.\n",
      "[0.04061007 0.5617378  0.15530674]\n",
      "Class: 0, Dice Overlap: 0.040610\n",
      "Class: 1, Dice Overlap: 0.561738\n",
      "Class: 2, Dice Overlap: 0.155307\n",
      "Epoch: 35, Accuracy Value: 0.119295\n",
      "   Class Dice overlap\n",
      "0            0.040610\n",
      "1            0.561738\n",
      "2            0.155307\n",
      "Epoch 36 of 60\n",
      "There are 219 bone and 0 dirt patches in the training data...\n",
      "learning rate 0.001000\n"
     ]
    },
    {
     "name": "stderr",
     "output_type": "stream",
     "text": [
      "Epoch:36/60: 100%|██████████| 219/219 [00:17<00:00, 12.48 batches/s, loss=1.0674324, loss1=[], loss2=1.0674324]\n"
     ]
    },
    {
     "name": "stdout",
     "output_type": "stream",
     "text": [
      "\n",
      "Average, loss2: 1.068026.\n",
      "[0.04061007 0.5617378  0.15530674]\n",
      "Class: 0, Dice Overlap: 0.040610\n",
      "Class: 1, Dice Overlap: 0.561738\n",
      "Class: 2, Dice Overlap: 0.155307\n",
      "Epoch: 36, Accuracy Value: 0.119295\n",
      "   Class Dice overlap\n",
      "0            0.040610\n",
      "1            0.561738\n",
      "2            0.155307\n",
      "Epoch 37 of 60\n",
      "There are 219 bone and 0 dirt patches in the training data...\n",
      "learning rate 0.001000\n"
     ]
    },
    {
     "name": "stderr",
     "output_type": "stream",
     "text": [
      "Epoch:37/60: 100%|██████████| 219/219 [00:17<00:00, 12.47 batches/s, loss=1.0648062, loss1=[], loss2=1.0648062]\n"
     ]
    },
    {
     "name": "stdout",
     "output_type": "stream",
     "text": [
      "\n",
      "Average, loss2: 1.067940.\n",
      "[0.04061007 0.5617378  0.15530674]\n",
      "Class: 0, Dice Overlap: 0.040610\n",
      "Class: 1, Dice Overlap: 0.561738\n",
      "Class: 2, Dice Overlap: 0.155307\n",
      "Epoch: 37, Accuracy Value: 0.119295\n",
      "   Class Dice overlap\n",
      "0            0.040610\n",
      "1            0.561738\n",
      "2            0.155307\n",
      "Epoch 38 of 60\n",
      "There are 219 bone and 0 dirt patches in the training data...\n",
      "learning rate 0.001000\n"
     ]
    },
    {
     "name": "stderr",
     "output_type": "stream",
     "text": [
      "Epoch:38/60: 100%|██████████| 219/219 [00:17<00:00, 12.46 batches/s, loss=1.068943, loss1=[], loss2=1.068943]  \n"
     ]
    },
    {
     "name": "stdout",
     "output_type": "stream",
     "text": [
      "\n",
      "Average, loss2: 1.068052.\n",
      "[0.04061007 0.5617378  0.15530674]\n",
      "Class: 0, Dice Overlap: 0.040610\n",
      "Class: 1, Dice Overlap: 0.561738\n",
      "Class: 2, Dice Overlap: 0.155307\n",
      "Epoch: 38, Accuracy Value: 0.119295\n",
      "   Class Dice overlap\n",
      "0            0.040610\n",
      "1            0.561738\n",
      "2            0.155307\n",
      "Epoch 39 of 60\n",
      "There are 219 bone and 0 dirt patches in the training data...\n",
      "learning rate 0.001000\n"
     ]
    },
    {
     "name": "stderr",
     "output_type": "stream",
     "text": [
      "Epoch:39/60: 100%|██████████| 219/219 [00:17<00:00, 12.53 batches/s, loss=1.0687064, loss1=[], loss2=1.0687064]\n"
     ]
    },
    {
     "name": "stdout",
     "output_type": "stream",
     "text": [
      "\n",
      "Average, loss2: 1.068050.\n",
      "[0.04061007 0.5617378  0.15530674]\n",
      "Class: 0, Dice Overlap: 0.040610\n",
      "Class: 1, Dice Overlap: 0.561738\n",
      "Class: 2, Dice Overlap: 0.155307\n",
      "Epoch: 39, Accuracy Value: 0.119295\n",
      "   Class Dice overlap\n",
      "0            0.040610\n",
      "1            0.561738\n",
      "2            0.155307\n",
      "Epoch 40 of 60\n",
      "There are 219 bone and 0 dirt patches in the training data...\n",
      "learning rate 0.001000\n"
     ]
    },
    {
     "name": "stderr",
     "output_type": "stream",
     "text": [
      "Epoch:40/60: 100%|██████████| 219/219 [00:17<00:00, 12.45 batches/s, loss=1.0710771, loss1=[], loss2=1.0710771]\n"
     ]
    },
    {
     "name": "stdout",
     "output_type": "stream",
     "text": [
      "\n",
      "Average, loss2: 1.068114.\n",
      "[0.04061007 0.5617378  0.15530674]\n",
      "Class: 0, Dice Overlap: 0.040610\n",
      "Class: 1, Dice Overlap: 0.561738\n",
      "Class: 2, Dice Overlap: 0.155307\n",
      "Epoch: 40, Accuracy Value: 0.119295\n",
      "   Class Dice overlap\n",
      "0            0.040610\n",
      "1            0.561738\n",
      "2            0.155307\n",
      "Epoch 41 of 60\n",
      "There are 219 bone and 0 dirt patches in the training data...\n",
      "learning rate 0.001000\n"
     ]
    },
    {
     "name": "stderr",
     "output_type": "stream",
     "text": [
      "Epoch:41/60: 100%|██████████| 219/219 [00:17<00:00, 12.22 batches/s, loss=1.0681012, loss1=[], loss2=1.0681012]\n"
     ]
    },
    {
     "name": "stdout",
     "output_type": "stream",
     "text": [
      "\n",
      "Average, loss2: 1.068042.\n",
      "[0.04061007 0.5617378  0.15530674]\n",
      "Class: 0, Dice Overlap: 0.040610\n",
      "Class: 1, Dice Overlap: 0.561738\n",
      "Class: 2, Dice Overlap: 0.155307\n",
      "Epoch: 41, Accuracy Value: 0.119295\n",
      "   Class Dice overlap\n",
      "0            0.040610\n",
      "1            0.561738\n",
      "2            0.155307\n",
      "Epoch 42 of 60\n",
      "There are 219 bone and 0 dirt patches in the training data...\n",
      "learning rate 0.001000\n"
     ]
    },
    {
     "name": "stderr",
     "output_type": "stream",
     "text": [
      "Epoch:42/60: 100%|██████████| 219/219 [00:17<00:00, 12.18 batches/s, loss=1.0670348, loss1=[], loss2=1.0670348]\n"
     ]
    },
    {
     "name": "stdout",
     "output_type": "stream",
     "text": [
      "\n",
      "Average, loss2: 1.067995.\n",
      "[0.04061007 0.5617378  0.15530674]\n",
      "Class: 0, Dice Overlap: 0.040610\n",
      "Class: 1, Dice Overlap: 0.561738\n",
      "Class: 2, Dice Overlap: 0.155307\n",
      "Epoch: 42, Accuracy Value: 0.119295\n",
      "   Class Dice overlap\n",
      "0            0.040610\n",
      "1            0.561738\n",
      "2            0.155307\n",
      "Epoch 43 of 60\n",
      "There are 219 bone and 0 dirt patches in the training data...\n",
      "learning rate 0.001000\n"
     ]
    },
    {
     "name": "stderr",
     "output_type": "stream",
     "text": [
      "Epoch:43/60: 100%|██████████| 219/219 [00:17<00:00, 12.36 batches/s, loss=1.0664092, loss1=[], loss2=1.0664092]\n"
     ]
    },
    {
     "name": "stdout",
     "output_type": "stream",
     "text": [
      "\n",
      "Average, loss2: 1.068033.\n",
      "[0.04061007 0.5617378  0.15530674]\n",
      "Class: 0, Dice Overlap: 0.040610\n",
      "Class: 1, Dice Overlap: 0.561738\n",
      "Class: 2, Dice Overlap: 0.155307\n",
      "Epoch: 43, Accuracy Value: 0.119295\n",
      "   Class Dice overlap\n",
      "0            0.040610\n",
      "1            0.561738\n",
      "2            0.155307\n",
      "Epoch 44 of 60\n",
      "There are 219 bone and 0 dirt patches in the training data...\n",
      "learning rate 0.001000\n"
     ]
    },
    {
     "name": "stderr",
     "output_type": "stream",
     "text": [
      "Epoch:44/60: 100%|██████████| 219/219 [00:17<00:00, 12.35 batches/s, loss=1.0693252, loss1=[], loss2=1.0693252]\n"
     ]
    },
    {
     "name": "stdout",
     "output_type": "stream",
     "text": [
      "\n",
      "Average, loss2: 1.068049.\n",
      "[0.04061007 0.5617378  0.15530674]\n",
      "Class: 0, Dice Overlap: 0.040610\n",
      "Class: 1, Dice Overlap: 0.561738\n",
      "Class: 2, Dice Overlap: 0.155307\n",
      "Epoch: 44, Accuracy Value: 0.119295\n",
      "   Class Dice overlap\n",
      "0            0.040610\n",
      "1            0.561738\n",
      "2            0.155307\n",
      "Epoch 45 of 60\n",
      "There are 219 bone and 0 dirt patches in the training data...\n",
      "learning rate 0.001000\n"
     ]
    },
    {
     "name": "stderr",
     "output_type": "stream",
     "text": [
      "Epoch:45/60: 100%|██████████| 219/219 [00:17<00:00, 12.29 batches/s, loss=1.0674407, loss1=[], loss2=1.0674407]\n"
     ]
    },
    {
     "name": "stdout",
     "output_type": "stream",
     "text": [
      "\n",
      "Average, loss2: 1.068033.\n",
      "[0.04061007 0.5617378  0.15530674]\n",
      "Class: 0, Dice Overlap: 0.040610\n",
      "Class: 1, Dice Overlap: 0.561738\n",
      "Class: 2, Dice Overlap: 0.155307\n",
      "Epoch: 45, Accuracy Value: 0.119295\n",
      "   Class Dice overlap\n",
      "0            0.040610\n",
      "1            0.561738\n",
      "2            0.155307\n",
      "Epoch 46 of 60\n",
      "There are 219 bone and 0 dirt patches in the training data...\n",
      "learning rate 0.001000\n"
     ]
    },
    {
     "name": "stderr",
     "output_type": "stream",
     "text": [
      "Epoch:46/60: 100%|██████████| 219/219 [00:17<00:00, 12.44 batches/s, loss=1.0700479, loss1=[], loss2=1.0700479]\n"
     ]
    },
    {
     "name": "stdout",
     "output_type": "stream",
     "text": [
      "\n",
      "Average, loss2: 1.068094.\n",
      "[0.04061007 0.5617378  0.15530674]\n",
      "Class: 0, Dice Overlap: 0.040610\n",
      "Class: 1, Dice Overlap: 0.561738\n",
      "Class: 2, Dice Overlap: 0.155307\n",
      "Epoch: 46, Accuracy Value: 0.119295\n",
      "   Class Dice overlap\n",
      "0            0.040610\n",
      "1            0.561738\n",
      "2            0.155307\n",
      "Epoch 47 of 60\n",
      "There are 219 bone and 0 dirt patches in the training data...\n",
      "learning rate 0.001000\n"
     ]
    },
    {
     "name": "stderr",
     "output_type": "stream",
     "text": [
      "Epoch:47/60: 100%|██████████| 219/219 [00:17<00:00, 12.49 batches/s, loss=1.069925, loss1=[], loss2=1.069925]  \n"
     ]
    },
    {
     "name": "stdout",
     "output_type": "stream",
     "text": [
      "\n",
      "Average, loss2: 1.068078.\n",
      "[0.04061007 0.5617378  0.15530674]\n",
      "Class: 0, Dice Overlap: 0.040610\n",
      "Class: 1, Dice Overlap: 0.561738\n",
      "Class: 2, Dice Overlap: 0.155307\n",
      "Epoch: 47, Accuracy Value: 0.119295\n",
      "   Class Dice overlap\n",
      "0            0.040610\n",
      "1            0.561738\n",
      "2            0.155307\n",
      "Epoch 48 of 60\n",
      "There are 219 bone and 0 dirt patches in the training data...\n",
      "learning rate 0.001000\n"
     ]
    },
    {
     "name": "stderr",
     "output_type": "stream",
     "text": [
      "Epoch:48/60: 100%|██████████| 219/219 [00:17<00:00, 12.49 batches/s, loss=1.0694329, loss1=[], loss2=1.0694329]\n"
     ]
    },
    {
     "name": "stdout",
     "output_type": "stream",
     "text": [
      "\n",
      "Average, loss2: 1.068056.\n",
      "[0.04061007 0.5617378  0.15530674]\n",
      "Class: 0, Dice Overlap: 0.040610\n",
      "Class: 1, Dice Overlap: 0.561738\n",
      "Class: 2, Dice Overlap: 0.155307\n",
      "Epoch: 48, Accuracy Value: 0.119295\n",
      "   Class Dice overlap\n",
      "0            0.040610\n",
      "1            0.561738\n",
      "2            0.155307\n",
      "Epoch 49 of 60\n",
      "There are 219 bone and 0 dirt patches in the training data...\n",
      "learning rate 0.001000\n"
     ]
    },
    {
     "name": "stderr",
     "output_type": "stream",
     "text": [
      "Epoch:49/60: 100%|██████████| 219/219 [00:17<00:00, 12.35 batches/s, loss=1.0682169, loss1=[], loss2=1.0682169]\n"
     ]
    },
    {
     "name": "stdout",
     "output_type": "stream",
     "text": [
      "\n",
      "Average, loss2: 1.068002.\n",
      "[0.04061007 0.5617378  0.15530674]\n",
      "Class: 0, Dice Overlap: 0.040610\n",
      "Class: 1, Dice Overlap: 0.561738\n",
      "Class: 2, Dice Overlap: 0.155307\n",
      "Epoch: 49, Accuracy Value: 0.119295\n",
      "   Class Dice overlap\n",
      "0            0.040610\n",
      "1            0.561738\n",
      "2            0.155307\n",
      "Epoch 50 of 60\n",
      "There are 219 bone and 0 dirt patches in the training data...\n",
      "learning rate 0.001000\n"
     ]
    },
    {
     "name": "stderr",
     "output_type": "stream",
     "text": [
      "Epoch:50/60: 100%|██████████| 219/219 [00:17<00:00, 12.47 batches/s, loss=1.070062, loss1=[], loss2=1.070062]  \n"
     ]
    },
    {
     "name": "stdout",
     "output_type": "stream",
     "text": [
      "\n",
      "Average, loss2: 1.068068.\n",
      "[0.04061007 0.5617378  0.15530674]\n",
      "Class: 0, Dice Overlap: 0.040610\n",
      "Class: 1, Dice Overlap: 0.561738\n",
      "Class: 2, Dice Overlap: 0.155307\n",
      "Epoch: 50, Accuracy Value: 0.119295\n",
      "   Class Dice overlap\n",
      "0            0.040610\n",
      "1            0.561738\n",
      "2            0.155307\n",
      "Epoch 51 of 60\n",
      "There are 219 bone and 0 dirt patches in the training data...\n",
      "learning rate 0.001000\n"
     ]
    },
    {
     "name": "stderr",
     "output_type": "stream",
     "text": [
      "Epoch:51/60: 100%|██████████| 219/219 [00:17<00:00, 12.48 batches/s, loss=1.0680846, loss1=[], loss2=1.0680846]\n"
     ]
    },
    {
     "name": "stdout",
     "output_type": "stream",
     "text": [
      "\n",
      "Average, loss2: 1.068016.\n",
      "[0.04061007 0.5617378  0.15530674]\n",
      "Class: 0, Dice Overlap: 0.040610\n",
      "Class: 1, Dice Overlap: 0.561738\n",
      "Class: 2, Dice Overlap: 0.155307\n",
      "Epoch: 51, Accuracy Value: 0.119295\n",
      "   Class Dice overlap\n",
      "0            0.040610\n",
      "1            0.561738\n",
      "2            0.155307\n",
      "Epoch 52 of 60\n",
      "There are 219 bone and 0 dirt patches in the training data...\n",
      "learning rate 0.001000\n"
     ]
    },
    {
     "name": "stderr",
     "output_type": "stream",
     "text": [
      "Epoch:52/60: 100%|██████████| 219/219 [00:17<00:00, 12.22 batches/s, loss=1.068512, loss1=[], loss2=1.068512]  \n"
     ]
    },
    {
     "name": "stdout",
     "output_type": "stream",
     "text": [
      "\n",
      "Average, loss2: 1.068049.\n",
      "[0.04061007 0.5617378  0.15530674]\n",
      "Class: 0, Dice Overlap: 0.040610\n",
      "Class: 1, Dice Overlap: 0.561738\n",
      "Class: 2, Dice Overlap: 0.155307\n",
      "Epoch: 52, Accuracy Value: 0.119295\n",
      "   Class Dice overlap\n",
      "0            0.040610\n",
      "1            0.561738\n",
      "2            0.155307\n",
      "Epoch 53 of 60\n",
      "There are 219 bone and 0 dirt patches in the training data...\n",
      "learning rate 0.001000\n"
     ]
    },
    {
     "name": "stderr",
     "output_type": "stream",
     "text": [
      "Epoch:53/60: 100%|██████████| 219/219 [00:17<00:00, 12.23 batches/s, loss=1.0670451, loss1=[], loss2=1.0670451]\n"
     ]
    },
    {
     "name": "stdout",
     "output_type": "stream",
     "text": [
      "\n",
      "Average, loss2: 1.067987.\n",
      "[0.04061007 0.5617378  0.15530674]\n",
      "Class: 0, Dice Overlap: 0.040610\n",
      "Class: 1, Dice Overlap: 0.561738\n",
      "Class: 2, Dice Overlap: 0.155307\n",
      "Epoch: 53, Accuracy Value: 0.119295\n",
      "   Class Dice overlap\n",
      "0            0.040610\n",
      "1            0.561738\n",
      "2            0.155307\n",
      "Epoch 54 of 60\n",
      "There are 219 bone and 0 dirt patches in the training data...\n",
      "learning rate 0.001000\n"
     ]
    },
    {
     "name": "stderr",
     "output_type": "stream",
     "text": [
      "Epoch:54/60: 100%|██████████| 219/219 [00:17<00:00, 12.34 batches/s, loss=1.0675788, loss1=[], loss2=1.0675788]\n"
     ]
    },
    {
     "name": "stdout",
     "output_type": "stream",
     "text": [
      "\n",
      "Average, loss2: 1.068012.\n",
      "[0.04061007 0.5617378  0.15530674]\n",
      "Class: 0, Dice Overlap: 0.040610\n",
      "Class: 1, Dice Overlap: 0.561738\n",
      "Class: 2, Dice Overlap: 0.155307\n",
      "Epoch: 54, Accuracy Value: 0.119295\n",
      "   Class Dice overlap\n",
      "0            0.040610\n",
      "1            0.561738\n",
      "2            0.155307\n",
      "Epoch 55 of 60\n",
      "There are 219 bone and 0 dirt patches in the training data...\n",
      "learning rate 0.001000\n"
     ]
    },
    {
     "name": "stderr",
     "output_type": "stream",
     "text": [
      "Epoch:55/60: 100%|██████████| 219/219 [00:17<00:00, 12.23 batches/s, loss=1.0692462, loss1=[], loss2=1.0692462]\n"
     ]
    },
    {
     "name": "stdout",
     "output_type": "stream",
     "text": [
      "\n",
      "Average, loss2: 1.068077.\n",
      "[0.04061007 0.5617378  0.15530674]\n",
      "Class: 0, Dice Overlap: 0.040610\n",
      "Class: 1, Dice Overlap: 0.561738\n",
      "Class: 2, Dice Overlap: 0.155307\n",
      "Epoch: 55, Accuracy Value: 0.119295\n",
      "   Class Dice overlap\n",
      "0            0.040610\n",
      "1            0.561738\n",
      "2            0.155307\n",
      "Epoch 56 of 60\n",
      "There are 219 bone and 0 dirt patches in the training data...\n",
      "learning rate 0.001000\n"
     ]
    },
    {
     "name": "stderr",
     "output_type": "stream",
     "text": [
      "Epoch:56/60: 100%|██████████| 219/219 [00:17<00:00, 12.19 batches/s, loss=1.069257, loss1=[], loss2=1.069257]  \n"
     ]
    },
    {
     "name": "stdout",
     "output_type": "stream",
     "text": [
      "\n",
      "Average, loss2: 1.068062.\n",
      "[0.04061007 0.5617378  0.15530674]\n",
      "Class: 0, Dice Overlap: 0.040610\n",
      "Class: 1, Dice Overlap: 0.561738\n",
      "Class: 2, Dice Overlap: 0.155307\n",
      "Epoch: 56, Accuracy Value: 0.119295\n",
      "   Class Dice overlap\n",
      "0            0.040610\n",
      "1            0.561738\n",
      "2            0.155307\n",
      "Epoch 57 of 60\n",
      "There are 219 bone and 0 dirt patches in the training data...\n",
      "learning rate 0.001000\n"
     ]
    },
    {
     "name": "stderr",
     "output_type": "stream",
     "text": [
      "Epoch:57/60: 100%|██████████| 219/219 [00:17<00:00, 12.38 batches/s, loss=1.0668333, loss1=[], loss2=1.0668333]\n"
     ]
    },
    {
     "name": "stdout",
     "output_type": "stream",
     "text": [
      "\n",
      "Average, loss2: 1.068005.\n",
      "[0.04061007 0.5617378  0.15530674]\n",
      "Class: 0, Dice Overlap: 0.040610\n",
      "Class: 1, Dice Overlap: 0.561738\n",
      "Class: 2, Dice Overlap: 0.155307\n",
      "Epoch: 57, Accuracy Value: 0.119295\n",
      "   Class Dice overlap\n",
      "0            0.040610\n",
      "1            0.561738\n",
      "2            0.155307\n",
      "Epoch 58 of 60\n",
      "There are 219 bone and 0 dirt patches in the training data...\n",
      "learning rate 0.001000\n"
     ]
    },
    {
     "name": "stderr",
     "output_type": "stream",
     "text": [
      "Epoch:58/60: 100%|██████████| 219/219 [00:17<00:00, 12.31 batches/s, loss=1.0693597, loss1=[], loss2=1.0693597]\n"
     ]
    },
    {
     "name": "stdout",
     "output_type": "stream",
     "text": [
      "\n",
      "Average, loss2: 1.068069.\n",
      "[0.04061007 0.5617378  0.15530674]\n",
      "Class: 0, Dice Overlap: 0.040610\n",
      "Class: 1, Dice Overlap: 0.561738\n",
      "Class: 2, Dice Overlap: 0.155307\n",
      "Epoch: 58, Accuracy Value: 0.119295\n",
      "   Class Dice overlap\n",
      "0            0.040610\n",
      "1            0.561738\n",
      "2            0.155307\n",
      "Epoch 59 of 60\n",
      "There are 219 bone and 0 dirt patches in the training data...\n",
      "learning rate 0.001000\n"
     ]
    },
    {
     "name": "stderr",
     "output_type": "stream",
     "text": [
      "Epoch:59/60: 100%|██████████| 219/219 [00:17<00:00, 12.21 batches/s, loss=1.0679024, loss1=[], loss2=1.0679024]\n"
     ]
    },
    {
     "name": "stdout",
     "output_type": "stream",
     "text": [
      "\n",
      "Average, loss2: 1.068031.\n",
      "[0.04061007 0.5617378  0.15530674]\n",
      "Class: 0, Dice Overlap: 0.040610\n",
      "Class: 1, Dice Overlap: 0.561738\n",
      "Class: 2, Dice Overlap: 0.155307\n",
      "Epoch: 59, Accuracy Value: 0.119295\n",
      "   Class Dice overlap\n",
      "0            0.040610\n",
      "1            0.561738\n",
      "2            0.155307\n",
      "Epoch 60 of 60\n",
      "There are 219 bone and 0 dirt patches in the training data...\n",
      "learning rate 0.001000\n"
     ]
    },
    {
     "name": "stderr",
     "output_type": "stream",
     "text": [
      "Epoch:60/60: 100%|██████████| 219/219 [00:17<00:00, 12.27 batches/s, loss=1.067589, loss1=[], loss2=1.067589]  \n"
     ]
    },
    {
     "name": "stdout",
     "output_type": "stream",
     "text": [
      "\n",
      "Average, loss2: 1.068011.\n",
      "[0.04061007 0.5617378  0.15530674]\n",
      "Class: 0, Dice Overlap: 0.040610\n",
      "Class: 1, Dice Overlap: 0.561738\n",
      "Class: 2, Dice Overlap: 0.155307\n",
      "Epoch: 60, Accuracy Value: 0.119295\n",
      "   Class Dice overlap\n",
      "0            0.040610\n",
      "1            0.561738\n",
      "2            0.155307\n"
     ]
    }
   ],
   "source": [
    "epoch_count = 0\n",
    "#st.write(f\"TensorBoard is availaible, run this following command in a terminal : tensorboard --logdir=runs\")\n",
    "print(f\"Epoch progress:\")\n",
    "print(f\"Progress training {Epoch} epochs...\")\n",
    "total_timer = timer()\n",
    "iteration = 0\n",
    "nb_ite = 0\n",
    "#subprocess.call('echo \"TensorBoard available, run this command to enable it : tensorboard --logdir=runs\"', shell=True)\n",
    "for i_epoch in range(Epoch):\n",
    "    print(f\"Epoch {epoch_count + 1} of {Epoch}\")\n",
    "    \n",
    "    if i_epoch < period_size:\n",
    "        #dirt_rate = 0.5\n",
    "        air_rate = 0.1\n",
    "    elif i_epoch < 2 * period_size and i_epoch >= period_size:\n",
    "        #dirt_rate = 0.3\n",
    "        air_rate = 0.2\n",
    "    elif i_epoch < 3 * period_size and i_epoch >= 2 * period_size:\n",
    "        #dirt_rate = 0.1\n",
    "        air_rate = 0.4\n",
    "    else:\n",
    "        #dirt_rate = 0.0\n",
    "        air_rate = 0.5\n",
    "    \n",
    "    #Get patches \n",
    "    patches = get_minimum_dirt_patches(dirt_choose_threshold=0.1, dirt_rate=0, patches=train_patches, ratios=ratios)\n",
    "    \n",
    "    DEB_patches, index = get_dirt_bone_patches(train_patches, ratios, air_rate)\n",
    "    \n",
    "    data_set = HDF52D(patches, val_patches, train_transform=train_transform, val_transform=val_transform)\n",
    "    \n",
    "    DEB_data_set = HDF52D(DEB_patches, val_patches, train_transform=train_transform, val_transform=val_transform, train_idx=index)\n",
    "    \n",
    "    train_data_loader = DataLoader(dataset=DEB_data_set, batch_size=current_batch, shuffle=True, num_workers=0)\n",
    "    \n",
    "    current_batch = int(batch_size)\n",
    "                            \n",
    "    # train_data_loader.append(DataLoader(dataset=training_data_set,\n",
    "    #                                     batch_size=current_batch,\n",
    "    #                                     shuffle=True,\n",
    "    #                                     num_workers=0))\n",
    "                            \n",
    "    print(f\"learning rate {optimizer.param_groups[0]['lr']:.6f}\")\n",
    "    \n",
    "    nb_ite = rdn_train(net, optimizer, train_data_loader, epoch=i_epoch, total_epoch=Epoch, use_gpu=use_gpu, tensorboard_plot=True, nb_ite=nb_ite)\n",
    "    #lr_scheduler.step()\n",
    "    \n",
    "    # validating\n",
    "    val_loss, class_val = rdn_val(net, data_set,use_gpu=use_gpu,i_epoch=i_epoch, class_num=class_num)\n",
    "    \n",
    "    class_val = pd.DataFrame(class_val)\n",
    "    class_val.columns = [\"Class Dice overlap\"]\n",
    "    print(class_val)\n",
    "    epoch_count += 1\n",
    "    iteration = np.floor((100 * epoch_count) / int(Epoch))\n",
    "\n",
    "# save model\n",
    "torch.save(net.state_dict(), \"RDN.pth\")"
   ]
  },
  {
   "cell_type": "code",
   "execution_count": null,
   "metadata": {},
   "outputs": [],
   "source": []
  }
 ],
 "metadata": {
  "kernelspec": {
   "display_name": "Python 3 (ipykernel)",
   "language": "python",
   "name": "python3"
  },
  "language_info": {
   "codemirror_mode": {
    "name": "ipython",
    "version": 3
   },
   "file_extension": ".py",
   "mimetype": "text/x-python",
   "name": "python",
   "nbconvert_exporter": "python",
   "pygments_lexer": "ipython3",
   "version": "3.11.4"
  }
 },
 "nbformat": 4,
 "nbformat_minor": 4
}
